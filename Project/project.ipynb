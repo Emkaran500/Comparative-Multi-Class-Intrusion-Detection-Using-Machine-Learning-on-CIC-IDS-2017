{
 "cells": [
  {
   "cell_type": "code",
   "execution_count": 1,
   "metadata": {},
   "outputs": [
    {
     "name": "stderr",
     "output_type": "stream",
     "text": [
      "c:\\Users\\KIRISA\\AppData\\Local\\Programs\\Python\\Python313\\Lib\\site-packages\\tqdm\\auto.py:21: TqdmWarning: IProgress not found. Please update jupyter and ipywidgets. See https://ipywidgets.readthedocs.io/en/stable/user_install.html\n",
      "  from .autonotebook import tqdm as notebook_tqdm\n"
     ]
    }
   ],
   "source": [
    "import pandas as pd\n",
    "import numpy as np\n",
    "import matplotlib.pyplot as plt\n",
    "import joblib\n",
    "import seaborn as sns\n",
    "import shap\n",
    "import os\n",
    "from sklearn.preprocessing import LabelEncoder\n",
    "from sklearn.model_selection import train_test_split\n",
    "from sklearn.neural_network import MLPClassifier\n",
    "from sklearn.ensemble import RandomForestClassifier\n",
    "from sklearn.linear_model import LogisticRegression\n",
    "from sklearn.neighbors import KNeighborsClassifier\n",
    "from sklearn.tree import DecisionTreeClassifier\n",
    "from sklearn.metrics import confusion_matrix, classification_report, accuracy_score, f1_score\n",
    "from sklearn.preprocessing import StandardScaler\n",
    "from sklearn.utils import resample"
   ]
  },
  {
   "cell_type": "code",
   "execution_count": 2,
   "metadata": {},
   "outputs": [],
   "source": [
    "df1 = pd.read_csv(\"../Dataset/CIC-IDS-2017/CSVs/MachineLearningCVE/Monday-WorkingHours.pcap_ISCX.csv\", encoding='utf-8')\n",
    "df2 = pd.read_csv(\"../Dataset/CIC-IDS-2017/CSVs/MachineLearningCVE/Tuesday-WorkingHours.pcap_ISCX.csv\", encoding='utf-8')\n",
    "df3 = pd.read_csv(\"../Dataset/CIC-IDS-2017/CSVs/MachineLearningCVE/Wednesday-workingHours.pcap_ISCX.csv\", encoding='utf-8')\n",
    "df4 = pd.read_csv(\"../Dataset/CIC-IDS-2017/CSVs/MachineLearningCVE/Thursday-WorkingHours-Morning-WebAttacks.pcap_ISCX.csv\", encoding='utf-8')\n",
    "df5 = pd.read_csv(\"../Dataset/CIC-IDS-2017/CSVs/MachineLearningCVE/Thursday-WorkingHours-Afternoon-Infilteration.pcap_ISCX.csv\", encoding='utf-8')\n",
    "df6 = pd.read_csv(\"../Dataset/CIC-IDS-2017/CSVs/MachineLearningCVE/Friday-WorkingHours-Morning.pcap_ISCX.csv\", encoding='utf-8')\n",
    "df7 = pd.read_csv(\"../Dataset/CIC-IDS-2017/CSVs/MachineLearningCVE/Friday-WorkingHours-Afternoon-PortScan.pcap_ISCX.csv\", encoding='utf-8')\n",
    "df8 = pd.read_csv(\"../Dataset/CIC-IDS-2017/CSVs/MachineLearningCVE/Friday-WorkingHours-Afternoon-DDos.pcap_ISCX.csv\", encoding='utf-8')\n",
    "\n",
    "df = pd.concat([df1, df2, df3, df4, df5, df6, df7, df8], ignore_index=True)\n",
    "df.columns = df.columns.str.strip()\n",
    "df['Label'] = df['Label'].str.replace('�', '-', regex=False)\n",
    "le = LabelEncoder()\n",
    "df['Label_encoded'] = le.fit_transform(df['Label'])\n",
    "class_names = le.classes_\n",
    "\n",
    "df_major = df[df['Label'] == 'BENIGN']\n",
    "df_minor = df[df['Label'] != 'BENIGN']\n",
    "\n",
    "df_major_down = resample(df_major, \n",
    "                         replace=False, \n",
    "                         n_samples=100000, \n",
    "                         random_state=42)\n",
    "\n",
    "df_balanced = pd.concat([df_major_down, df_minor])"
   ]
  },
  {
   "cell_type": "code",
   "execution_count": 3,
   "metadata": {},
   "outputs": [],
   "source": [
    "drop_cols = ['Flow ID', 'Source IP', 'Destination IP', 'Timestamp']\n",
    "df_balanced.drop(columns=[col for col in drop_cols if col in df_balanced.columns], inplace=True)\n",
    "df_balanced.replace([np.inf, -np.inf], np.nan, inplace=True)\n",
    "df_balanced.dropna(inplace=True)\n",
    "\n",
    "df_balanced['Label'] = df_balanced['Label'].apply(lambda x: 0 if x.strip() == 'BENIGN' else 1)\n",
    "\n",
    "X = df_balanced.drop(columns=['Label', 'Label_encoded'])\n",
    "y = df_balanced['Label_encoded']\n",
    "\n",
    "X = X.apply(pd.to_numeric, errors='coerce')\n",
    "X = X.dropna()\n",
    "y = y.loc[X.index]"
   ]
  },
  {
   "cell_type": "code",
   "execution_count": 4,
   "metadata": {},
   "outputs": [],
   "source": [
    "X_train, X_test, y_train, y_test = train_test_split(\n",
    "    X, y, test_size=0.3, random_state=42, stratify=y\n",
    ")\n",
    "\n",
    "scaler = StandardScaler()\n",
    "X_train_scaled = scaler.fit_transform(X_train)\n",
    "X_test_scaled = scaler.transform(X_test)\n",
    "\n",
    "\n",
    "models = {\n",
    "    'MLP': MLPClassifier(\n",
    "    hidden_layer_sizes=(128, 64),\n",
    "    activation='relu',\n",
    "    solver='adam',\n",
    "    alpha=1e-4,\n",
    "    learning_rate='adaptive',\n",
    "    max_iter=300,\n",
    "    early_stopping=True,\n",
    "    random_state=42\n",
    "    ),\n",
    "    'Random Forest': RandomForestClassifier(\n",
    "        n_estimators=100, \n",
    "        class_weight='balanced', \n",
    "        random_state=42\n",
    "    ),\n",
    "    'Logistic Regression': LogisticRegression(\n",
    "    max_iter=3000,\n",
    "    class_weight='balanced',\n",
    "    solver='saga',\n",
    "    random_state=42\n",
    "    ),\n",
    "    'K-Nearest Neighbors': KNeighborsClassifier(\n",
    "        n_neighbors=5\n",
    "    ),\n",
    "    'Decision Tree': DecisionTreeClassifier(\n",
    "    max_depth=10,\n",
    "    class_weight='balanced',\n",
    "    random_state=42\n",
    "    )\n",
    "}"
   ]
  },
  {
   "cell_type": "code",
   "execution_count": 5,
   "metadata": {},
   "outputs": [
    {
     "name": "stdout",
     "output_type": "stream",
     "text": [
      "MLP has been loaded\n",
      "Random Forest has been loaded\n",
      "Logistic Regression has been loaded\n",
      "K-Nearest Neighbors has been loaded\n",
      "Decision Tree has been loaded\n"
     ]
    }
   ],
   "source": [
    "loaded_models = {\n",
    "    'MLP': {},\n",
    "    'Random Forest': {},\n",
    "    'Logistic Regression': {},\n",
    "    'K-Nearest Neighbors': {},\n",
    "    'Decision Tree': {}\n",
    "}\n",
    "\n",
    "for name, _ in loaded_models.items():\n",
    "    try:\n",
    "        loaded_models[name] = joblib.load(f'./Models/{name.replace(' ','_').lower()}_model.pkl')\n",
    "    except:\n",
    "        loaded_models[name] = {}\n",
    "\n",
    "results = {}\n",
    "\n",
    "for name, loaded_model in loaded_models.items():\n",
    "    if loaded_model == {}:\n",
    "        models[name].fit(X_train_scaled, y_train)\n",
    "        y_pred = models[name].predict(X_test_scaled)\n",
    "        results[name] = {\n",
    "            'model': models[name],\n",
    "            'y_pred': y_pred\n",
    "        }\n",
    "        print(f'{name} has been trained')\n",
    "    else:\n",
    "        y_pred = loaded_model.predict(X_test_scaled)\n",
    "        results[name] = {\n",
    "            'model': loaded_model,\n",
    "            'y_pred': y_pred\n",
    "        }\n",
    "        print(f'{name} has been loaded')"
   ]
  },
  {
   "cell_type": "code",
   "execution_count": 6,
   "metadata": {},
   "outputs": [
    {
     "name": "stdout",
     "output_type": "stream",
     "text": [
      "\n",
      "=== MLP ===\n",
      "Accuracy: 0.9962\n",
      "Macro F1: 0.8277\n",
      "                            precision    recall  f1-score   support\n",
      "\n",
      "                    BENIGN       1.00      0.99      0.99     29979\n",
      "                       Bot       0.87      0.90      0.89       587\n",
      "                      DDoS       1.00      1.00      1.00     38408\n",
      "             DoS GoldenEye       0.99      0.99      0.99      3088\n",
      "                  DoS Hulk       1.00      1.00      1.00     69037\n",
      "          DoS Slowhttptest       0.99      0.98      0.98      1650\n",
      "             DoS slowloris       0.99      0.99      0.99      1739\n",
      "               FTP-Patator       1.00      1.00      1.00      2380\n",
      "                Heartbleed       1.00      1.00      1.00         3\n",
      "              Infiltration       0.50      0.45      0.48        11\n",
      "                  PortScan       1.00      1.00      1.00     47641\n",
      "               SSH-Patator       0.97      0.99      0.98      1769\n",
      "  Web Attack - Brute Force       0.63      0.94      0.75       452\n",
      "Web Attack - Sql Injection       1.00      0.17      0.29         6\n",
      "          Web Attack - XSS       1.00      0.04      0.08       196\n",
      "\n",
      "                  accuracy                           1.00    196946\n",
      "                 macro avg       0.93      0.83      0.83    196946\n",
      "              weighted avg       1.00      1.00      1.00    196946\n",
      "\n",
      "\n",
      "=== Random Forest ===\n",
      "Accuracy: 0.9981\n",
      "Macro F1: 0.8702\n",
      "                            precision    recall  f1-score   support\n",
      "\n",
      "                    BENIGN       1.00      1.00      1.00     29979\n",
      "                       Bot       0.98      0.98      0.98       587\n",
      "                      DDoS       1.00      1.00      1.00     38408\n",
      "             DoS GoldenEye       1.00      1.00      1.00      3088\n",
      "                  DoS Hulk       1.00      1.00      1.00     69037\n",
      "          DoS Slowhttptest       1.00      0.99      0.99      1650\n",
      "             DoS slowloris       0.99      1.00      1.00      1739\n",
      "               FTP-Patator       1.00      1.00      1.00      2380\n",
      "                Heartbleed       1.00      1.00      1.00         3\n",
      "              Infiltration       1.00      0.55      0.71        11\n",
      "                  PortScan       1.00      1.00      1.00     47641\n",
      "               SSH-Patator       1.00      1.00      1.00      1769\n",
      "  Web Attack - Brute Force       0.73      0.80      0.76       452\n",
      "Web Attack - Sql Injection       1.00      0.17      0.29         6\n",
      "          Web Attack - XSS       0.40      0.29      0.34       196\n",
      "\n",
      "                  accuracy                           1.00    196946\n",
      "                 macro avg       0.94      0.85      0.87    196946\n",
      "              weighted avg       1.00      1.00      1.00    196946\n",
      "\n",
      "\n",
      "=== Logistic Regression ===\n",
      "Accuracy: 0.9303\n",
      "Macro F1: 0.6310\n",
      "                            precision    recall  f1-score   support\n",
      "\n",
      "                    BENIGN       0.99      0.67      0.80     29979\n",
      "                       Bot       0.08      0.74      0.15       587\n",
      "                      DDoS       0.96      1.00      0.98     38408\n",
      "             DoS GoldenEye       0.80      0.92      0.86      3088\n",
      "                  DoS Hulk       0.99      0.98      0.98     69037\n",
      "          DoS Slowhttptest       0.85      0.89      0.87      1650\n",
      "             DoS slowloris       0.82      0.83      0.82      1739\n",
      "               FTP-Patator       0.63      1.00      0.77      2380\n",
      "                Heartbleed       1.00      1.00      1.00         3\n",
      "              Infiltration       0.03      0.64      0.05        11\n",
      "                  PortScan       0.98      0.97      0.98     47641\n",
      "               SSH-Patator       0.75      0.99      0.85      1769\n",
      "  Web Attack - Brute Force       0.07      0.04      0.05       452\n",
      "Web Attack - Sql Injection       0.00      0.50      0.01         6\n",
      "          Web Attack - XSS       0.16      0.93      0.28       196\n",
      "\n",
      "                  accuracy                           0.93    196946\n",
      "                 macro avg       0.61      0.81      0.63    196946\n",
      "              weighted avg       0.96      0.93      0.94    196946\n",
      "\n",
      "\n",
      "=== K-Nearest Neighbors ===\n",
      "Accuracy: 0.9954\n",
      "Macro F1: 0.8186\n",
      "                            precision    recall  f1-score   support\n",
      "\n",
      "                    BENIGN       1.00      0.98      0.99     29979\n",
      "                       Bot       0.86      0.93      0.89       587\n",
      "                      DDoS       1.00      1.00      1.00     38408\n",
      "             DoS GoldenEye       0.99      1.00      0.99      3088\n",
      "                  DoS Hulk       1.00      1.00      1.00     69037\n",
      "          DoS Slowhttptest       1.00      0.99      0.99      1650\n",
      "             DoS slowloris       0.99      1.00      0.99      1739\n",
      "               FTP-Patator       1.00      1.00      1.00      2380\n",
      "                Heartbleed       0.60      1.00      0.75         3\n",
      "              Infiltration       0.50      0.18      0.27        11\n",
      "                  PortScan       0.99      1.00      1.00     47641\n",
      "               SSH-Patator       0.99      0.99      0.99      1769\n",
      "  Web Attack - Brute Force       0.73      0.77      0.75       452\n",
      "Web Attack - Sql Injection       1.00      0.17      0.29         6\n",
      "          Web Attack - XSS       0.44      0.34      0.38       196\n",
      "\n",
      "                  accuracy                           1.00    196946\n",
      "                 macro avg       0.87      0.82      0.82    196946\n",
      "              weighted avg       1.00      1.00      1.00    196946\n",
      "\n",
      "\n",
      "=== Decision Tree ===\n",
      "Accuracy: 0.9439\n",
      "Macro F1: 0.7523\n",
      "                            precision    recall  f1-score   support\n",
      "\n",
      "                    BENIGN       1.00      0.92      0.96     29979\n",
      "                       Bot       0.70      1.00      0.82       587\n",
      "                      DDoS       1.00      1.00      1.00     38408\n",
      "             DoS GoldenEye       0.83      0.96      0.89      3088\n",
      "                  DoS Hulk       1.00      0.93      0.96     69037\n",
      "          DoS Slowhttptest       0.25      0.96      0.40      1650\n",
      "             DoS slowloris       0.28      0.97      0.44      1739\n",
      "               FTP-Patator       1.00      1.00      1.00      2380\n",
      "                Heartbleed       1.00      1.00      1.00         3\n",
      "              Infiltration       0.92      1.00      0.96        11\n",
      "                  PortScan       1.00      0.93      0.97     47641\n",
      "               SSH-Patator       1.00      1.00      1.00      1769\n",
      "  Web Attack - Brute Force       0.64      0.37      0.47       452\n",
      "Web Attack - Sql Injection       0.01      0.83      0.02         6\n",
      "          Web Attack - XSS       0.27      0.78      0.41       196\n",
      "\n",
      "                  accuracy                           0.94    196946\n",
      "                 macro avg       0.73      0.91      0.75    196946\n",
      "              weighted avg       0.98      0.94      0.96    196946\n",
      "\n"
     ]
    }
   ],
   "source": [
    "for name, res in results.items():\n",
    "    print(f\"\\n=== {name} ===\")\n",
    "    print(f\"Accuracy: {accuracy_score(y_test, res['y_pred']):.4f}\")\n",
    "    print(f\"Macro F1: {f1_score(y_test, res['y_pred'], average='macro'):.4f}\")\n",
    "    print(classification_report(y_test, res['y_pred'], target_names=class_names, zero_division=0))"
   ]
  },
  {
   "cell_type": "code",
   "execution_count": 7,
   "metadata": {},
   "outputs": [
    {
     "name": "stdout",
     "output_type": "stream",
     "text": [
      "                 Model  Accuracy  Macro F1\n",
      "1        Random Forest  0.998147  0.870209\n",
      "0                  MLP  0.996197  0.827731\n",
      "3  K-Nearest Neighbors  0.995420  0.818577\n",
      "4        Decision Tree  0.943919  0.752345\n",
      "2  Logistic Regression  0.930326  0.630981\n"
     ]
    }
   ],
   "source": [
    "summary = []\n",
    "\n",
    "for name, res in results.items():\n",
    "    acc = accuracy_score(y_test, res['y_pred'])\n",
    "    macro_f1 = f1_score(y_test, res['y_pred'], average='macro')\n",
    "    summary.append({'Model': name, 'Accuracy': acc, 'Macro F1': macro_f1})\n",
    "\n",
    "df_summary = pd.DataFrame(summary).sort_values(by='Macro F1', ascending=False)\n",
    "print(df_summary)"
   ]
  },
  {
   "cell_type": "code",
   "execution_count": 8,
   "metadata": {},
   "outputs": [
    {
     "name": "stdout",
     "output_type": "stream",
     "text": [
      "Saved: Confusion Matrices Plots\\MLP_confusion_matrix.png\n",
      "Saved: Confusion Matrices Plots\\Random Forest_confusion_matrix.png\n",
      "Saved: Confusion Matrices Plots\\Logistic Regression_confusion_matrix.png\n",
      "Saved: Confusion Matrices Plots\\K-Nearest Neighbors_confusion_matrix.png\n",
      "Saved: Confusion Matrices Plots\\Decision Tree_confusion_matrix.png\n"
     ]
    },
    {
     "data": {
      "text/plain": [
       "<Figure size 1400x1200 with 0 Axes>"
      ]
     },
     "metadata": {},
     "output_type": "display_data"
    },
    {
     "data": {
      "text/plain": [
       "<Figure size 1400x1200 with 0 Axes>"
      ]
     },
     "metadata": {},
     "output_type": "display_data"
    },
    {
     "data": {
      "text/plain": [
       "<Figure size 1400x1200 with 0 Axes>"
      ]
     },
     "metadata": {},
     "output_type": "display_data"
    },
    {
     "data": {
      "text/plain": [
       "<Figure size 1400x1200 with 0 Axes>"
      ]
     },
     "metadata": {},
     "output_type": "display_data"
    },
    {
     "data": {
      "text/plain": [
       "<Figure size 1400x1200 with 0 Axes>"
      ]
     },
     "metadata": {},
     "output_type": "display_data"
    }
   ],
   "source": [
    "output_dir = \"Confusion Matrices Plots\"\n",
    "os.makedirs(output_dir, exist_ok=True)\n",
    "\n",
    "for name, res in results.items():\n",
    "    y_pred = res['y_pred']\n",
    "\n",
    "    cm = confusion_matrix(y_test, y_pred, labels=range(len(class_names)))\n",
    "\n",
    "    plt.figure(figsize=(14, 12))\n",
    "    sns.heatmap(cm, annot=True, fmt=\"d\", cmap=\"Blues\", \n",
    "                xticklabels=class_names, \n",
    "                yticklabels=class_names,\n",
    "                linewidths=0.5, linecolor='gray')\n",
    "\n",
    "    plt.title(f\"{name} – Confusion Matrix (Raw Counts)\")\n",
    "    plt.xlabel(\"Predicted Label\")\n",
    "    plt.ylabel(\"True Label\")\n",
    "    plt.xticks(rotation=90)\n",
    "    plt.yticks(rotation=0)\n",
    "    plt.tight_layout()\n",
    "    filename = os.path.join(output_dir, f\"{name}_confusion_matrix.png\")\n",
    "    plt.savefig(filename, dpi=300)\n",
    "    plt.clf()\n",
    "    print(f\"Saved: {filename}\")"
   ]
  },
  {
   "cell_type": "code",
   "execution_count": 17,
   "metadata": {},
   "outputs": [
    {
     "name": "stdout",
     "output_type": "stream",
     "text": [
      "Saved: Model Comparison Plots\\Model_Comparison.png\n"
     ]
    },
    {
     "data": {
      "text/plain": [
       "<Figure size 640x480 with 0 Axes>"
      ]
     },
     "metadata": {},
     "output_type": "display_data"
    }
   ],
   "source": [
    "output_dir = \"Model Comparison Plots\"\n",
    "os.makedirs(output_dir, exist_ok=True)\n",
    "\n",
    "df_summary.set_index('Model').plot(kind='barh', title='Model Comparison', colormap='viridis')\n",
    "plt.xlabel('Score')\n",
    "plt.xlim(0, 1)\n",
    "plt.grid(True)\n",
    "plt.tight_layout()\n",
    "filename = os.path.join(output_dir, \"Model_Comparison.png\")\n",
    "plt.savefig(filename, dpi=300)\n",
    "plt.clf()\n",
    "print(f\"Saved: {filename}\")"
   ]
  },
  {
   "cell_type": "code",
   "execution_count": 14,
   "metadata": {},
   "outputs": [
    {
     "name": "stdout",
     "output_type": "stream",
     "text": [
      "Explaining MLP (KernelExplainer)...\n"
     ]
    },
    {
     "name": "stderr",
     "output_type": "stream",
     "text": [
      "100%|██████████| 200/200 [00:13<00:00, 14.30it/s]\n"
     ]
    },
    {
     "name": "stdout",
     "output_type": "stream",
     "text": [
      "\n",
      "SHAP Summary for class: BENIGN (shape: (15, 78))\n",
      "Saved: SHAP Plots\\MLP_shap_BENIGN.png\n",
      "\n",
      "SHAP Summary for class: Bot (shape: (15, 78))\n",
      "Saved: SHAP Plots\\MLP_shap_Bot.png\n",
      "\n",
      "SHAP Summary for class: DDoS (shape: (15, 78))\n",
      "Saved: SHAP Plots\\MLP_shap_DDoS.png\n",
      "\n",
      "SHAP Summary for class: DoS GoldenEye (shape: (15, 78))\n",
      "Saved: SHAP Plots\\MLP_shap_DoS_GoldenEye.png\n",
      "\n",
      "SHAP Summary for class: DoS Hulk (shape: (15, 78))\n",
      "Saved: SHAP Plots\\MLP_shap_DoS_Hulk.png\n",
      "\n",
      "SHAP Summary for class: DoS Slowhttptest (shape: (15, 78))\n",
      "Saved: SHAP Plots\\MLP_shap_DoS_Slowhttptest.png\n",
      "\n",
      "SHAP Summary for class: DoS slowloris (shape: (15, 78))\n",
      "Saved: SHAP Plots\\MLP_shap_DoS_slowloris.png\n",
      "\n",
      "SHAP Summary for class: FTP-Patator (shape: (15, 78))\n",
      "Saved: SHAP Plots\\MLP_shap_FTP-Patator.png\n",
      "\n",
      "SHAP Summary for class: Heartbleed (shape: (15, 78))\n",
      "Saved: SHAP Plots\\MLP_shap_Heartbleed.png\n",
      "\n",
      "SHAP Summary for class: Infiltration (shape: (15, 78))\n",
      "Saved: SHAP Plots\\MLP_shap_Infiltration.png\n",
      "\n",
      "SHAP Summary for class: PortScan (shape: (15, 78))\n",
      "Saved: SHAP Plots\\MLP_shap_PortScan.png\n",
      "\n",
      "SHAP Summary for class: SSH-Patator (shape: (15, 78))\n",
      "Saved: SHAP Plots\\MLP_shap_SSH-Patator.png\n",
      "\n",
      "SHAP Summary for class: Web Attack - Brute Force (shape: (15, 78))\n",
      "Saved: SHAP Plots\\MLP_shap_Web_Attack_-_Brute_Force.png\n",
      "\n",
      "SHAP Summary for class: Web Attack - Sql Injection (shape: (15, 78))\n",
      "Saved: SHAP Plots\\MLP_shap_Web_Attack_-_Sql_Injection.png\n",
      "\n",
      "SHAP Summary for class: Web Attack - XSS (shape: (15, 78))\n",
      "Saved: SHAP Plots\\MLP_shap_Web_Attack_-_XSS.png\n",
      "\n",
      "SHAP Summary for all classes (shape: (15, 78))\n",
      "Saved: SHAP Plots\\MLP_shap_all_classes.png\n",
      "Explaining Logistic Regression (KernelExplainer)...\n"
     ]
    },
    {
     "name": "stderr",
     "output_type": "stream",
     "text": [
      "100%|██████████| 200/200 [00:08<00:00, 24.66it/s]\n"
     ]
    },
    {
     "name": "stdout",
     "output_type": "stream",
     "text": [
      "\n",
      "SHAP Summary for class: BENIGN (shape: (15, 78))\n",
      "Saved: SHAP Plots\\Logistic Regression_shap_BENIGN.png\n",
      "\n",
      "SHAP Summary for class: Bot (shape: (15, 78))\n",
      "Saved: SHAP Plots\\Logistic Regression_shap_Bot.png\n",
      "\n",
      "SHAP Summary for class: DDoS (shape: (15, 78))\n",
      "Saved: SHAP Plots\\Logistic Regression_shap_DDoS.png\n",
      "\n",
      "SHAP Summary for class: DoS GoldenEye (shape: (15, 78))\n",
      "Saved: SHAP Plots\\Logistic Regression_shap_DoS_GoldenEye.png\n",
      "\n",
      "SHAP Summary for class: DoS Hulk (shape: (15, 78))\n",
      "Saved: SHAP Plots\\Logistic Regression_shap_DoS_Hulk.png\n",
      "\n",
      "SHAP Summary for class: DoS Slowhttptest (shape: (15, 78))\n",
      "Saved: SHAP Plots\\Logistic Regression_shap_DoS_Slowhttptest.png\n",
      "\n",
      "SHAP Summary for class: DoS slowloris (shape: (15, 78))\n",
      "Saved: SHAP Plots\\Logistic Regression_shap_DoS_slowloris.png\n",
      "\n",
      "SHAP Summary for class: FTP-Patator (shape: (15, 78))\n",
      "Saved: SHAP Plots\\Logistic Regression_shap_FTP-Patator.png\n",
      "\n",
      "SHAP Summary for class: Heartbleed (shape: (15, 78))\n",
      "Saved: SHAP Plots\\Logistic Regression_shap_Heartbleed.png\n",
      "\n",
      "SHAP Summary for class: Infiltration (shape: (15, 78))\n",
      "Saved: SHAP Plots\\Logistic Regression_shap_Infiltration.png\n",
      "\n",
      "SHAP Summary for class: PortScan (shape: (15, 78))\n",
      "Saved: SHAP Plots\\Logistic Regression_shap_PortScan.png\n",
      "\n",
      "SHAP Summary for class: SSH-Patator (shape: (15, 78))\n",
      "Saved: SHAP Plots\\Logistic Regression_shap_SSH-Patator.png\n",
      "\n",
      "SHAP Summary for class: Web Attack - Brute Force (shape: (15, 78))\n",
      "Saved: SHAP Plots\\Logistic Regression_shap_Web_Attack_-_Brute_Force.png\n",
      "\n",
      "SHAP Summary for class: Web Attack - Sql Injection (shape: (15, 78))\n",
      "Saved: SHAP Plots\\Logistic Regression_shap_Web_Attack_-_Sql_Injection.png\n",
      "\n",
      "SHAP Summary for class: Web Attack - XSS (shape: (15, 78))\n",
      "Saved: SHAP Plots\\Logistic Regression_shap_Web_Attack_-_XSS.png\n",
      "\n",
      "SHAP Summary for all classes (shape: (15, 78))\n",
      "Saved: SHAP Plots\\Logistic Regression_shap_all_classes.png\n"
     ]
    },
    {
     "data": {
      "text/plain": [
       "<Figure size 800x950 with 0 Axes>"
      ]
     },
     "metadata": {},
     "output_type": "display_data"
    }
   ],
   "source": [
    "output_dir = \"SHAP Plots\"\n",
    "os.makedirs(output_dir, exist_ok=True)\n",
    "\n",
    "for name in ['MLP', 'Logistic Regression']:\n",
    "    print(f\"Explaining {name} (KernelExplainer)...\")\n",
    "    model = results[name]['model']\n",
    "    \n",
    "    X_sample = pd.DataFrame(X_test_scaled[:200], columns=X.columns)\n",
    "\n",
    "    explainer = shap.KernelExplainer(model.predict_proba, shap.kmeans(X_train_scaled, 50))\n",
    "\n",
    "    shap_values = explainer.shap_values(X_sample, nsamples=200)\n",
    "\n",
    "    for i, class_name in enumerate(le.classes_):\n",
    "        shap_array = np.array(shap_values[i])\n",
    "\n",
    "        shap_array = shap_array.T\n",
    "\n",
    "        print(f\"\\nSHAP Summary for class: {class_name} (shape: {shap_array.shape})\")\n",
    "        shap.summary_plot(shap_array, X_sample, plot_type=\"bar\", show=False)\n",
    "        plt.title(f\"SHAP Feature Importance – {class_name}\")\n",
    "        plt.tight_layout()\n",
    "        filename = os.path.join(output_dir, f\"{name}_shap_{class_name.replace(' ', '_').replace('/', '_')}.png\")\n",
    "        plt.savefig(filename, dpi=300)\n",
    "        plt.clf()\n",
    "        print(f\"Saved: {filename}\")\n",
    "\n",
    "    shap_values_all = np.sum([np.abs(cls_shap) for cls_shap in shap_values], axis=0)\n",
    "    shap_values_all = shap_values_all.T\n",
    "    print(f\"\\nSHAP Summary for all classes (shape: {shap_values_all.shape})\")\n",
    "    shap.summary_plot(shap_values_all, X_sample, plot_type=\"bar\", show=False)\n",
    "    plt.title(\"SHAP Summary for MLP – All Classes\")\n",
    "    plt.tight_layout()\n",
    "    filename = os.path.join(output_dir, f\"{name}_shap_all_classes.png\")\n",
    "    plt.savefig(filename, dpi=300)\n",
    "    plt.clf()\n",
    "    print(f\"Saved: {filename}\")"
   ]
  }
 ],
 "metadata": {
  "kernelspec": {
   "display_name": "Python 3",
   "language": "python",
   "name": "python3"
  },
  "language_info": {
   "codemirror_mode": {
    "name": "ipython",
    "version": 3
   },
   "file_extension": ".py",
   "mimetype": "text/x-python",
   "name": "python",
   "nbconvert_exporter": "python",
   "pygments_lexer": "ipython3",
   "version": "3.13.3"
  }
 },
 "nbformat": 4,
 "nbformat_minor": 2
}
